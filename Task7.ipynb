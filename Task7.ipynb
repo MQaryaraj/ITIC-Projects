{
  "nbformat": 4,
  "nbformat_minor": 0,
  "metadata": {
    "colab": {
      "name": "Task7",
      "provenance": []
    },
    "kernelspec": {
      "name": "python3",
      "display_name": "Python 3"
    }
  },
  "cells": [
    {
      "cell_type": "code",
      "metadata": {
        "id": "6KMoYM9pczyp",
        "outputId": "e0426616-c79e-4512-dc5c-b57f55eb98cd",
        "colab": {
          "base_uri": "https://localhost:8080/"
        }
      },
      "source": [
        "from google.colab import drive\n",
        "drive.mount('/content/drive/')"
      ],
      "execution_count": 54,
      "outputs": [
        {
          "output_type": "stream",
          "text": [
            "Drive already mounted at /content/drive/; to attempt to forcibly remount, call drive.mount(\"/content/drive/\", force_remount=True).\n"
          ],
          "name": "stdout"
        }
      ]
    },
    {
      "cell_type": "code",
      "metadata": {
        "id": "V3pcytx0edgy",
        "outputId": "0f4a4157-329d-4d0a-e33a-1e36ede1d354",
        "colab": {
          "base_uri": "https://localhost:8080/"
        }
      },
      "source": [
        "import pandas as pd\n",
        "import numpy as np\n",
        "import sklearn\n",
        "from textblob import Word\n",
        "import os\n",
        "from sklearn.feature_extraction.text import CountVectorizer\n",
        "from sklearn.svm import SVC\n",
        "from sklearn.model_selection import train_test_split\n",
        "from sklearn.preprocessing import LabelEncoder\n",
        "from sklearn.preprocessing import OneHotEncoder\n",
        "from sklearn.pipeline import Pipeline\n",
        "from sklearn.feature_extraction.text import CountVectorizer, TfidfTransformer\n",
        "from sklearn.model_selection import train_test_split, GridSearchCV\n",
        "from sklearn.metrics import classification_report\n",
        "from sklearn.feature_extraction.text import TfidfVectorizer\n",
        "from sklearn.metrics import roc_curve, auc\n",
        "from sklearn.metrics import confusion_matrix, roc_auc_score, recall_score, precision_score\n",
        "import nltk\n",
        "import nltk\n",
        "import re\n",
        "import itertools\n",
        "import time\n",
        "from nltk.stem import SnowballStemmer\n",
        "from nltk.corpus import stopwords\n",
        "nltk.download('stopwords')\n",
        "nltk.download('wordnet')\n",
        "from keras.models import Sequential\n",
        "from keras.layers import Dense, Dropout\n",
        "from keras.layers import Flatten\n",
        "from keras.layers.embeddings import Embedding\n",
        "from keras.preprocessing import sequence"
      ],
      "execution_count": 55,
      "outputs": [
        {
          "output_type": "stream",
          "text": [
            "[nltk_data] Downloading package stopwords to /root/nltk_data...\n",
            "[nltk_data]   Package stopwords is already up-to-date!\n",
            "[nltk_data] Downloading package wordnet to /root/nltk_data...\n",
            "[nltk_data]   Package wordnet is already up-to-date!\n"
          ],
          "name": "stdout"
        }
      ]
    },
    {
      "cell_type": "code",
      "metadata": {
        "id": "VHFio5g5e47v"
      },
      "source": [
        "#loading the dataset\n",
        "mooc_df = pd.read_excel(\"/content/drive/My Drive/Colab Notebooks/MoocSentimentAnalysis/stanfordMOOCForumPostsSet.xlsx\") "
      ],
      "execution_count": 56,
      "outputs": []
    },
    {
      "cell_type": "code",
      "metadata": {
        "id": "DI9KrRuqffwm",
        "outputId": "b5a36d5d-e398-41cb-8d64-fa40d8a363ad",
        "colab": {
          "base_uri": "https://localhost:8080/"
        }
      },
      "source": [
        "# checking the no of columns\n",
        "mooc_df.columns"
      ],
      "execution_count": 57,
      "outputs": [
        {
          "output_type": "execute_result",
          "data": {
            "text/plain": [
              "Index(['Text', 'Opinion(1/0)', 'Question(1/0)', 'Answer(1/0)',\n",
              "       'Sentiment(1-7)', 'Confusion(1-7)', 'Urgency(1-7)', 'CourseType',\n",
              "       'forum_post_id', 'course_display_name', 'forum_uid', 'created_at',\n",
              "       'post_type', 'anonymous', 'anonymous_to_peers', 'up_count',\n",
              "       'comment_thread_id', 'reads'],\n",
              "      dtype='object')"
            ]
          },
          "metadata": {
            "tags": []
          },
          "execution_count": 57
        }
      ]
    },
    {
      "cell_type": "markdown",
      "metadata": {
        "id": "nf6F-KkVfpR8"
      },
      "source": [
        "Refmoving unwanted columns and kept only Sentiment and Text columns, as we need to make prediction on Sentiment column based on Text."
      ]
    },
    {
      "cell_type": "code",
      "metadata": {
        "id": "lrZVZIl-fnmM"
      },
      "source": [
        "mooc_df = mooc_df.drop(['Opinion(1/0)','Question(1/0)', 'Answer(1/0)','Confusion(1-7)', 'Urgency(1-7)', 'CourseType',\n",
        "       'forum_post_id', 'course_display_name', 'forum_uid', 'created_at',\n",
        "       'post_type', 'anonymous', 'anonymous_to_peers', 'up_count',\n",
        "       'comment_thread_id', 'reads'], axis =1)"
      ],
      "execution_count": 58,
      "outputs": []
    },
    {
      "cell_type": "code",
      "metadata": {
        "id": "a4rPjrZ3hTKc",
        "outputId": "673c5344-637d-43b8-9593-49c8a66d1a9b",
        "colab": {
          "base_uri": "https://localhost:8080/"
        }
      },
      "source": [
        "print(mooc_df.shape)\n",
        "print(mooc_df.columns)"
      ],
      "execution_count": 40,
      "outputs": [
        {
          "output_type": "stream",
          "text": [
            "(29604, 2)\n",
            "Index(['Text', 'Sentiment(1-7)'], dtype='object')\n"
          ],
          "name": "stdout"
        }
      ]
    },
    {
      "cell_type": "markdown",
      "metadata": {
        "id": "uwLjPMBX975x"
      },
      "source": [
        "Some of the rows contains integers in the text columns as part of preprocessing wil remove these rows."
      ]
    },
    {
      "cell_type": "code",
      "metadata": {
        "id": "E-ND0ATpnKqU"
      },
      "source": [
        "not_string =[]\n",
        "for i in range(0, len(mooc_df)):\n",
        "    #print(type(forumPosts['Text'][i]))\n",
        "    if type(mooc_df['Text'][i])!=str:\n",
        "        not_string.append(i)"
      ],
      "execution_count": 59,
      "outputs": []
    },
    {
      "cell_type": "markdown",
      "metadata": {
        "id": "xuOYGJgknnBG"
      },
      "source": [
        "Removing the rows having integers in text columns"
      ]
    },
    {
      "cell_type": "code",
      "metadata": {
        "id": "XBr3_i4NnmS1"
      },
      "source": [
        "mooc_df = mooc_df.drop(not_string)"
      ],
      "execution_count": 60,
      "outputs": []
    },
    {
      "cell_type": "markdown",
      "metadata": {
        "id": "B-R3PG0K-OU0"
      },
      "source": [
        "Checking the no of entries for each category in the dateset"
      ]
    },
    {
      "cell_type": "code",
      "metadata": {
        "id": "ZfJFEDXm3DHC",
        "outputId": "3f860ba8-899b-46c8-f0d9-ccebc22f5008",
        "colab": {
          "base_uri": "https://localhost:8080/"
        }
      },
      "source": [
        "abc = mooc_df.groupby(\"Sentiment(1-7)\")[\"Text\"].count()\n",
        "abc"
      ],
      "execution_count": 61,
      "outputs": [
        {
          "output_type": "execute_result",
          "data": {
            "text/plain": [
              "Sentiment(1-7)\n",
              "1.0       14\n",
              "1.5       46\n",
              "2.0       97\n",
              "2.5      353\n",
              "3.0     1165\n",
              "3.5     2712\n",
              "4.0    16297\n",
              "4.5     4261\n",
              "5.0     2391\n",
              "5.5     1184\n",
              "6.0      686\n",
              "6.5      310\n",
              "7.0       82\n",
              "Name: Text, dtype: int64"
            ]
          },
          "metadata": {
            "tags": []
          },
          "execution_count": 61
        }
      ]
    },
    {
      "cell_type": "markdown",
      "metadata": {
        "id": "Cgw2_h5f29eA"
      },
      "source": [
        ""
      ]
    },
    {
      "cell_type": "markdown",
      "metadata": {
        "id": "MCZgs5CVywfC"
      },
      "source": [
        "As given in the readme file of the mooc dataset that:\n",
        "\n",
        "sentiment is expressed in post as folllowing:\n",
        "1=negative;\n",
        "7=positive;\n",
        "4=neutral;\n",
        "\n",
        "But the dataset has following values (not only 1, 4 and 7)\n",
        "\n",
        "\n",
        "*   1\n",
        "*   1.5\n",
        "*   2\n",
        "*   2.5\n",
        "*   3\n",
        "*   3.5\n",
        "*   4\n",
        "*   4.5\n",
        "*   5\n",
        "*   5.5\n",
        "*   6\n",
        "*   6.5\n",
        "*   7\n",
        "\n",
        " So i am the sentiments as follows\n",
        "\n",
        "*   Negative: values between (1,3.5)\n",
        "*   Neutarl: if value is 4\n",
        "*   Positive: values between (4.5,7)"
      ]
    },
    {
      "cell_type": "code",
      "metadata": {
        "id": "N8pA1E2YyvO8"
      },
      "source": [
        "def int_to_string(sentiment):\n",
        "    if sentiment in [1,1.5,2,2.5,3,3.5]:\n",
        "        return 0\n",
        "    elif sentiment == 4:\n",
        "        return 4\n",
        "    else:\n",
        "        return 7\n"
      ],
      "execution_count": 62,
      "outputs": []
    },
    {
      "cell_type": "code",
      "metadata": {
        "id": "vNs4UIXM1Vdl"
      },
      "source": [
        "mooc_df[\"Sentiment(1-7)\"] = mooc_df[\"Sentiment(1-7)\"].apply(int_to_string)"
      ],
      "execution_count": 63,
      "outputs": []
    },
    {
      "cell_type": "code",
      "metadata": {
        "id": "53kAVVPi2l80",
        "outputId": "a5b94148-c078-4be2-8394-603c384dd0b5",
        "colab": {
          "base_uri": "https://localhost:8080/",
          "height": 139
        }
      },
      "source": [
        "sentiment_distribution = mooc_df.groupby(\"Sentiment(1-7)\")[\"Text\"].count()\n",
        "sentiment_distribution = sentiment_distribution.reset_index(name=\"no of entries\")\n",
        "sentiment_distribution"
      ],
      "execution_count": 64,
      "outputs": [
        {
          "output_type": "execute_result",
          "data": {
            "text/html": [
              "<div>\n",
              "<style scoped>\n",
              "    .dataframe tbody tr th:only-of-type {\n",
              "        vertical-align: middle;\n",
              "    }\n",
              "\n",
              "    .dataframe tbody tr th {\n",
              "        vertical-align: top;\n",
              "    }\n",
              "\n",
              "    .dataframe thead th {\n",
              "        text-align: right;\n",
              "    }\n",
              "</style>\n",
              "<table border=\"1\" class=\"dataframe\">\n",
              "  <thead>\n",
              "    <tr style=\"text-align: right;\">\n",
              "      <th></th>\n",
              "      <th>Sentiment(1-7)</th>\n",
              "      <th>no of entries</th>\n",
              "    </tr>\n",
              "  </thead>\n",
              "  <tbody>\n",
              "    <tr>\n",
              "      <th>0</th>\n",
              "      <td>0</td>\n",
              "      <td>4387</td>\n",
              "    </tr>\n",
              "    <tr>\n",
              "      <th>1</th>\n",
              "      <td>4</td>\n",
              "      <td>16297</td>\n",
              "    </tr>\n",
              "    <tr>\n",
              "      <th>2</th>\n",
              "      <td>7</td>\n",
              "      <td>8914</td>\n",
              "    </tr>\n",
              "  </tbody>\n",
              "</table>\n",
              "</div>"
            ],
            "text/plain": [
              "   Sentiment(1-7)  no of entries\n",
              "0               0           4387\n",
              "1               4          16297\n",
              "2               7           8914"
            ]
          },
          "metadata": {
            "tags": []
          },
          "execution_count": 64
        }
      ]
    },
    {
      "cell_type": "markdown",
      "metadata": {
        "id": "c2C-4xap9D4I"
      },
      "source": [
        "We will check the count of positive negative and neutral entries, to check if data is biased or not. \n",
        "\n",
        "Here from the plot we can see that the no of neutarl entries are much higher compared with positive and negative entries. This issue may not give higher accuracy for the model, thugh we will proceed for the model building for now."
      ]
    },
    {
      "cell_type": "code",
      "metadata": {
        "id": "xPPQavTH8aDt",
        "outputId": "9d87e2ba-9153-44df-dfe6-e6557fc3b451",
        "colab": {
          "base_uri": "https://localhost:8080/",
          "height": 285
        }
      },
      "source": [
        "import seaborn as sns\n",
        "sns.set_theme(style=\"whitegrid\")\n",
        "ax = sns.barplot(x=\"Sentiment(1-7)\", y=\"no of entries\", data=sentiment_distribution)"
      ],
      "execution_count": 65,
      "outputs": [
        {
          "output_type": "display_data",
          "data": {
            "image/png": "[encoded data removed]",
            "text/plain": [
              "<Figure size 432x288 with 1 Axes>"
            ]
          },
          "metadata": {
            "tags": []
          }
        }
      ]
    },
    {
      "cell_type": "markdown",
      "metadata": {
        "id": "VhPfIMs29Bzy"
      },
      "source": [
        "Function for datapreprocessing"
      ]
    },
    {
      "cell_type": "code",
      "metadata": {
        "id": "VqKwEXH5ivtw"
      },
      "source": [
        "def preprocess_data(mooc_df):\n",
        "    '''\n",
        "    Cleaning the data by performing following tasks:\n",
        "    1. Removing NaN rows\n",
        "    2. Removing special characters\n",
        "    3. Lowercase all the words\n",
        "    4. Removing null, start and end\n",
        "    5. Applying lemmatize to each word\n",
        "    6. Removing all stop words\n",
        "    '''\n",
        "    mooc_df['Text'].dropna(inplace=True)\n",
        "    mooc_df['Text'] = mooc_df['Text'].apply(lambda x: \" \".join(x.lower() for x in x.split()))\n",
        "    mooc_df['Text'] = mooc_df['Text'].str.replace('[^\\w\\s]','')\n",
        "    stop = stopwords.words('english')\n",
        "    mooc_df['Text'] = mooc_df['Text'].apply(lambda x: \" \".join(x for x in x.split() if x not in stop))\n",
        "    mooc_df['Text'] = mooc_df['Text'].apply(lambda x: \" \".join(x for x in x.split() if x not in [\"null\", \"start\", \"end\"]))\n",
        "    mooc_df['Text'] = mooc_df['Text'].apply(lambda x: \" \".join([Word(word).lemmatize() for word in x.split()]))\n",
        "    \n",
        "    return mooc_df"
      ],
      "execution_count": 66,
      "outputs": []
    },
    {
      "cell_type": "code",
      "metadata": {
        "id": "jxPwyu4ygoG6"
      },
      "source": [
        "mooc_df['Text'] = preprocess_data(mooc_df)"
      ],
      "execution_count": 67,
      "outputs": []
    },
    {
      "cell_type": "markdown",
      "metadata": {
        "id": "kn5RfJF3qgrS"
      },
      "source": [
        "Now the final dataset has only two columns Text (removed all the rows having integers) and the target column is Sentiment(1-7)"
      ]
    },
    {
      "cell_type": "code",
      "metadata": {
        "id": "RFY3m7DUqPyA",
        "outputId": "b0a25e70-f5d8-4716-ac60-c7cc52501c6f",
        "colab": {
          "base_uri": "https://localhost:8080/",
          "height": 200
        }
      },
      "source": [
        "mooc_df.head()"
      ],
      "execution_count": 68,
      "outputs": [
        {
          "output_type": "execute_result",
          "data": {
            "text/html": [
              "<div>\n",
              "<style scoped>\n",
              "    .dataframe tbody tr th:only-of-type {\n",
              "        vertical-align: middle;\n",
              "    }\n",
              "\n",
              "    .dataframe tbody tr th {\n",
              "        vertical-align: top;\n",
              "    }\n",
              "\n",
              "    .dataframe thead th {\n",
              "        text-align: right;\n",
              "    }\n",
              "</style>\n",
              "<table border=\"1\" class=\"dataframe\">\n",
              "  <thead>\n",
              "    <tr style=\"text-align: right;\">\n",
              "      <th></th>\n",
              "      <th>Text</th>\n",
              "      <th>Sentiment(1-7)</th>\n",
              "    </tr>\n",
              "  </thead>\n",
              "  <tbody>\n",
              "    <tr>\n",
              "      <th>0</th>\n",
              "      <td>interesting often say thing others without rea...</td>\n",
              "      <td>7</td>\n",
              "    </tr>\n",
              "    <tr>\n",
              "      <th>1</th>\n",
              "      <td>algebra math game saying create game incorpora...</td>\n",
              "      <td>4</td>\n",
              "    </tr>\n",
              "    <tr>\n",
              "      <th>2</th>\n",
              "      <td>like idea kid principal say smart doesnt mean ...</td>\n",
              "      <td>7</td>\n",
              "    </tr>\n",
              "    <tr>\n",
              "      <th>3</th>\n",
              "      <td>response seems student really liked power felt...</td>\n",
              "      <td>7</td>\n",
              "    </tr>\n",
              "    <tr>\n",
              "      <th>4</th>\n",
              "      <td>boy loved math freedom anything great way see ...</td>\n",
              "      <td>7</td>\n",
              "    </tr>\n",
              "  </tbody>\n",
              "</table>\n",
              "</div>"
            ],
            "text/plain": [
              "                                                Text  Sentiment(1-7)\n",
              "0  interesting often say thing others without rea...               7\n",
              "1  algebra math game saying create game incorpora...               4\n",
              "2  like idea kid principal say smart doesnt mean ...               7\n",
              "3  response seems student really liked power felt...               7\n",
              "4  boy loved math freedom anything great way see ...               7"
            ]
          },
          "metadata": {
            "tags": []
          },
          "execution_count": 68
        }
      ]
    },
    {
      "cell_type": "code",
      "metadata": {
        "id": "MgXc8WkwnIPt",
        "outputId": "69bdd0ad-e73f-4877-bf93-74e582bee4a0",
        "colab": {
          "base_uri": "https://localhost:8080/"
        }
      },
      "source": [
        "from sklearn.feature_extraction.text import TfidfVectorizer\n",
        "tfidf = TfidfVectorizer()\n",
        "tfidf.fit(mooc_df['Text'])"
      ],
      "execution_count": 69,
      "outputs": [
        {
          "output_type": "execute_result",
          "data": {
            "text/plain": [
              "TfidfVectorizer(analyzer='word', binary=False, decode_error='strict',\n",
              "                dtype=<class 'numpy.float64'>, encoding='utf-8',\n",
              "                input='content', lowercase=True, max_df=1.0, max_features=None,\n",
              "                min_df=1, ngram_range=(1, 1), norm='l2', preprocessor=None,\n",
              "                smooth_idf=True, stop_words=None, strip_accents=None,\n",
              "                sublinear_tf=False, token_pattern='(?u)\\\\b\\\\w\\\\w+\\\\b',\n",
              "                tokenizer=None, use_idf=True, vocabulary=None)"
            ]
          },
          "metadata": {
            "tags": []
          },
          "execution_count": 69
        }
      ]
    },
    {
      "cell_type": "code",
      "metadata": {
        "id": "FlOGR6nEnJHZ"
      },
      "source": [
        "from sklearn.feature_extraction.text import CountVectorizer\n",
        "from keras.preprocessing.text import Tokenizer\n",
        "from keras.preprocessing.sequence import pad_sequences\n",
        "from keras.models import Sequential\n",
        "from keras.layers import Dense, Embedding, LSTM\n",
        "from sklearn.model_selection import train_test_split\n",
        "from keras.utils.np_utils import to_categorical\n",
        "import re"
      ],
      "execution_count": 71,
      "outputs": []
    },
    {
      "cell_type": "code",
      "metadata": {
        "id": "-m0-4668nJFc",
        "outputId": "286823ec-acd2-481d-e8db-8872c501a331",
        "colab": {
          "base_uri": "https://localhost:8080/"
        }
      },
      "source": [
        "max_fatures = 3000\n",
        "tokenizer = Tokenizer(nb_words=max_fatures, split=' ')\n",
        "tokenizer.fit_on_texts(mooc_df['Text'].values)\n",
        "X1 = tokenizer.texts_to_sequences(mooc_df['Text'].values)\n",
        "X1 = pad_sequences(X1)\n",
        "Y1 = pd.get_dummies(mooc_df['Sentiment(1-7)']).values\n",
        "X1_train, X1_test, Y1_train, Y1_test = train_test_split(X1,Y1, random_state = 42)\n",
        "print(X1_train.shape,Y1_train.shape)\n",
        "print(X1_test.shape,Y1_test.shape)"
      ],
      "execution_count": 72,
      "outputs": [
        {
          "output_type": "stream",
          "text": [
            "/usr/local/lib/python3.6/dist-packages/keras_preprocessing/text.py:180: UserWarning: The `nb_words` argument in `Tokenizer` has been renamed `num_words`.\n",
            "  warnings.warn('The `nb_words` argument in `Tokenizer` '\n"
          ],
          "name": "stderr"
        },
        {
          "output_type": "stream",
          "text": [
            "(22198, 233) (22198, 3)\n",
            "(7400, 233) (7400, 3)\n"
          ],
          "name": "stdout"
        }
      ]
    },
    {
      "cell_type": "code",
      "metadata": {
        "id": "PK3hDfbPnJDb",
        "outputId": "6f752484-6723-4385-a4ab-5c16ce78f233",
        "colab": {
          "base_uri": "https://localhost:8080/"
        }
      },
      "source": [
        "embed_dim = 150\n",
        "lstm_out = 200\n",
        "model = Sequential()\n",
        "model.add(Embedding(max_fatures, embed_dim,input_length = X1.shape[1]))\n",
        "model.add(LSTM(lstm_out))\n",
        "model.add(Dense(3,activation='softmax'))\n",
        "model.compile(loss = 'categorical_crossentropy', optimizer='adam',metrics = ['accuracy'])\n",
        "print(model.summary())"
      ],
      "execution_count": 73,
      "outputs": [
        {
          "output_type": "stream",
          "text": [
            "Model: \"sequential_2\"\n",
            "_________________________________________________________________\n",
            "Layer (type)                 Output Shape              Param #   \n",
            "=================================================================\n",
            "embedding_2 (Embedding)      (None, 233, 150)          450000    \n",
            "_________________________________________________________________\n",
            "lstm_2 (LSTM)                (None, 200)               280800    \n",
            "_________________________________________________________________\n",
            "dense_2 (Dense)              (None, 3)                 603       \n",
            "=================================================================\n",
            "Total params: 731,403\n",
            "Trainable params: 731,403\n",
            "Non-trainable params: 0\n",
            "_________________________________________________________________\n",
            "None\n"
          ],
          "name": "stdout"
        }
      ]
    },
    {
      "cell_type": "code",
      "metadata": {
        "id": "yNi4JbcwnI_g",
        "outputId": "b9e7a28e-6e26-4c90-dd5a-1c1b306f4c0d",
        "colab": {
          "base_uri": "https://localhost:8080/"
        }
      },
      "source": [
        "batch_size = 32\n",
        "model.fit(X1_train, Y1_train, epochs = 1, batch_size=batch_size, verbose = 2)"
      ],
      "execution_count": 74,
      "outputs": [
        {
          "output_type": "stream",
          "text": [
            "694/694 - 431s - loss: 0.7425 - accuracy: 0.6867\n"
          ],
          "name": "stdout"
        },
        {
          "output_type": "execute_result",
          "data": {
            "text/plain": [
              "<tensorflow.python.keras.callbacks.History at 0x7f14829bd940>"
            ]
          },
          "metadata": {
            "tags": []
          },
          "execution_count": 74
        }
      ]
    },
    {
      "cell_type": "code",
      "metadata": {
        "id": "AceQ_Nq2nItj",
        "outputId": "8af04bcd-b1b7-4c97-9dc1-435d1c9758ff",
        "colab": {
          "base_uri": "https://localhost:8080/"
        }
      },
      "source": [
        "history = model.fit(X1_train, Y1_train,\n",
        "                    epochs=5,\n",
        "                    verbose=True,\n",
        "                    validation_data=(X1_test, Y1_test),\n",
        "                    batch_size=64)"
      ],
      "execution_count": 75,
      "outputs": [
        {
          "output_type": "stream",
          "text": [
            "Epoch 1/5\n",
            "347/347 [==============================] - 374s 1s/step - loss: 0.5975 - accuracy: 0.7544 - val_loss: 0.6797 - val_accuracy: 0.7115\n",
            "Epoch 2/5\n",
            "347/347 [==============================] - 380s 1s/step - loss: 0.5374 - accuracy: 0.7784 - val_loss: 0.6896 - val_accuracy: 0.7146\n",
            "Epoch 3/5\n",
            "347/347 [==============================] - 384s 1s/step - loss: 0.4903 - accuracy: 0.8012 - val_loss: 0.7278 - val_accuracy: 0.7014\n",
            "Epoch 4/5\n",
            "347/347 [==============================] - 388s 1s/step - loss: 0.4444 - accuracy: 0.8212 - val_loss: 0.7714 - val_accuracy: 0.6991\n",
            "Epoch 5/5\n",
            "347/347 [==============================] - 382s 1s/step - loss: 0.4012 - accuracy: 0.8430 - val_loss: 0.8390 - val_accuracy: 0.6999\n"
          ],
          "name": "stdout"
        }
      ]
    }
  ]
}